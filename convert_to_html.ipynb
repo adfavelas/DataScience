{
  "nbformat": 4,
  "nbformat_minor": 0,
  "metadata": {
    "colab": {
      "name": "convert-to-html.ipynb",
      "provenance": [],
      "authorship_tag": "ABX9TyNAfvNYADfwneKnkSjna+Lr",
      "include_colab_link": true
    },
    "kernelspec": {
      "name": "python3",
      "display_name": "Python 3"
    },
    "language_info": {
      "name": "python"
    }
  },
  "cells": [
    {
      "cell_type": "markdown",
      "metadata": {
        "id": "view-in-github",
        "colab_type": "text"
      },
      "source": [
        "<a href=\"https://colab.research.google.com/github/adfavelas/DataScience/blob/main/convert_to_html.ipynb\" target=\"_parent\"><img src=\"https://colab.research.google.com/assets/colab-badge.svg\" alt=\"Open In Colab\"/></a>"
      ]
    },
    {
      "cell_type": "code",
      "execution_count": 2,
      "metadata": {
        "colab": {
          "base_uri": "https://localhost:8080/"
        },
        "id": "k2DWM6oyu-Dr",
        "outputId": "09218d6a-d03e-4058-8b7c-ed7e8b00c591"
      },
      "outputs": [
        {
          "output_type": "stream",
          "name": "stdout",
          "text": [
            "[NbConvertApp] Converting notebook /content/ejercicios-de-probabilidad.ipynb to html\n",
            "[NbConvertApp] Writing 700847 bytes to /content/ejercicios-de-probabilidad.html\n"
          ]
        },
        {
          "output_type": "execute_result",
          "data": {
            "text/plain": []
          },
          "metadata": {},
          "execution_count": 2
        }
      ],
      "source": [
        "%%shell \n",
        "jupyter nbconvert --to html /content/ejercicios-de-probabilidad.ipynb"
      ]
    }
  ]
}