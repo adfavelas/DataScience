{
  "metadata": {
    "kernelspec": {
      "name": "ir",
      "display_name": "R",
      "language": "R"
    },
    "language_info": {
      "name": "R",
      "codemirror_mode": "r",
      "pygments_lexer": "r",
      "mimetype": "text/x-r-source",
      "file_extension": ".r",
      "version": "4.0.5"
    },
    "colab": {
      "name": "ejercicios-de-probabilidad.ipynb",
      "provenance": [],
      "collapsed_sections": [],
      "include_colab_link": true
    }
  },
  "nbformat_minor": 0,
  "nbformat": 4,
  "cells": [
    {
      "cell_type": "markdown",
      "metadata": {
        "id": "view-in-github",
        "colab_type": "text"
      },
      "source": [
        "<a href=\"https://colab.research.google.com/github/adfavelas/DataScience/blob/main/ejercicios_de_probabilidad_Alumnos.ipynb\" target=\"_parent\"><img src=\"https://colab.research.google.com/assets/colab-badge.svg\" alt=\"Open In Colab\"/></a>"
      ]
    },
    {
      "cell_type": "markdown",
      "source": [
        "# Ejercicios de Probabilidad para Ciencia de Datos\n",
        "\n",
        "Profesor: Adrián Favela\n",
        "\n",
        "🎒 Nombre del alumno: \n",
        "\n",
        "🔢 Matrícula: \n",
        "\n",
        "\n",
        "\n"
      ],
      "metadata": {
        "id": "7FtfOUOP2RMY"
      }
    },
    {
      "cell_type": "code",
      "source": [
        "install.packages(\"tidyverse\", dependencies = TRUE) \n",
        "library(tidyverse) # Si van a importar librerías, así es como se hace.\n",
        "library(dplyr)\n",
        "list.files(path = \"/content/\") # Esto no lo muevan\n",
        "source(\"/content/shadenorm.R\") # Si van a utilizar algun pedacito de código externo como una función, se llaman así."
      ],
      "metadata": {
        "_uuid": "051d70d956493feee0c6d64651c6a088724dca2a",
        "_execution_state": "idle",
        "execution": {
          "iopub.status.busy": "2022-08-25T05:47:52.262047Z",
          "iopub.execute_input": "2022-08-25T05:47:52.263909Z",
          "iopub.status.idle": "2022-08-25T05:47:52.317505Z"
        },
        "trusted": true,
        "id": "hBa8iz7sprJy"
      },
      "execution_count": null,
      "outputs": []
    },
    {
      "cell_type": "markdown",
      "source": [
        "## 🔶 Distribución Binomial\n",
        "\n",
        "### 🔵 Ejercicio 1:\n",
        "En un examen hay 20 preguntas de opción múltiple. Cada pregunta tiene 4 opciones y sólo una de ellas es correcta. Un alumno contesta el examen completamente al azar. Sea $X$ la cantidad de preguntas que respondió correctamente.\n",
        "\n",
        "a)  Dibuje la distribución de probabilidad de $X$."
      ],
      "metadata": {
        "id": "GufZ85skprJ0"
      }
    },
    {
      "cell_type": "code",
      "source": [
        "#TO-DO: Crea un arreglo de números del 0 al 20 y llámalo x\n",
        "x=\n",
        "\n",
        "#TO-DO: Utiliza los valores del problema para llamar una distribución binomial y guardala en la variable probin\n",
        "probin<-dbinom(x, size=_____, prob=_____)\n",
        "\n",
        "#TO-DO: Coloca las etiquetas: \"Número de respuestas correctas\" y \"Probabilidad\" en los ejes X y Y respectivamente.\n",
        "#Nombra el título como \"Distribución de Probabilidad Binomial\"\n",
        "barplot(probin,names.arg=x, xlab=_____,ylab=______,col=\"blue\",\n",
        "main=______,border=\"red\")"
      ],
      "metadata": {
        "execution": {
          "iopub.status.busy": "2022-08-25T05:47:52.321657Z",
          "iopub.execute_input": "2022-08-25T05:47:52.323292Z",
          "iopub.status.idle": "2022-08-25T05:47:52.417644Z"
        },
        "trusted": true,
        "id": "Vc43xNNOprJ2"
      },
      "execution_count": null,
      "outputs": []
    },
    {
      "cell_type": "markdown",
      "source": [
        "b)  Halle la probabilidad de que el alumno obtenga exactamente 7 preguntas correctas."
      ],
      "metadata": {
        "id": "mDHhujUXprJ3"
      }
    },
    {
      "cell_type": "code",
      "source": [
        "#TO-DO: Escribe el código que falta. Puedes apoyarte del inciso anterior.\n",
        "dbinom(____,______,_____)"
      ],
      "metadata": {
        "execution": {
          "iopub.status.busy": "2022-08-25T05:47:52.420226Z",
          "iopub.execute_input": "2022-08-25T05:47:52.421648Z",
          "iopub.status.idle": "2022-08-25T05:47:52.438280Z"
        },
        "trusted": true,
        "id": "RxGfNZFOprJ4"
      },
      "execution_count": null,
      "outputs": []
    },
    {
      "cell_type": "markdown",
      "source": [
        "c)  Halle la probabilidad de que el alumno obtenga a lo más 7 preguntas correctas."
      ],
      "metadata": {
        "id": "sD3Rk8KWprJ4"
      }
    },
    {
      "cell_type": "code",
      "source": [
        "#TO-DO: Utiliza el comando pbinom para obtener la distribución de probabilidd acumulada hasta las 7 preguntas correctas.\n",
        "_____(____,size=20,prob=0.25)"
      ],
      "metadata": {
        "execution": {
          "iopub.status.busy": "2022-08-25T05:47:52.440871Z",
          "iopub.execute_input": "2022-08-25T05:47:52.442447Z",
          "iopub.status.idle": "2022-08-25T05:47:52.459486Z"
        },
        "trusted": true,
        "id": "haJVdoNeprJ5"
      },
      "execution_count": null,
      "outputs": []
    },
    {
      "cell_type": "markdown",
      "source": [
        "## 🔶 Distribución Normal\n",
        "\n",
        "### 🔵 Ejercicio 2:\n",
        "\n",
        "Las puntuaciones de un examen siguen una distribución normal donde la media es 67 y la desviación estándar es 13.7\n",
        "\n",
        "a)  Calcule el porcentaje de estudiantes que obtiene 80 o más en el examen."
      ],
      "metadata": {
        "id": "7vAjgepfprJ6"
      }
    },
    {
      "cell_type": "code",
      "source": [
        "#TO-DO: Utiliza el comando pnorm y los datos del problema para obtener la probabilidad deseada\n",
        "#Coloca TRUE o FALSE en el último espacio si quieres o no obtener una probabilidad de cola izquierda.\n",
        "pnorm(____, mean=_____, sd=_____, lower.tail=______) "
      ],
      "metadata": {
        "execution": {
          "iopub.status.busy": "2022-08-25T05:47:52.462426Z",
          "iopub.execute_input": "2022-08-25T05:47:52.464018Z",
          "iopub.status.idle": "2022-08-25T05:47:52.481269Z"
        },
        "trusted": true,
        "id": "TVXJ1NfTprJ6"
      },
      "execution_count": null,
      "outputs": []
    },
    {
      "cell_type": "markdown",
      "source": [
        "Eso quiere decir que 17.13% estudiantes obtuvieron 80 o más en el examen.\n",
        "\n",
        "b)  Dibuje la curva normal y sombree la probabilidad anterior."
      ],
      "metadata": {
        "id": "S8qpMlbGprJ7"
      }
    },
    {
      "cell_type": "code",
      "source": [
        "#TO-DO: Utilice el comando personalizado shadenorm para graficar y sombrear lo deseado.\n",
        "#Utilice el parámetro above o below y los valores requeridos por el problema.\n",
        "_______(______=80,justabove=TRUE,mu=____,sig=______,col=\"red\",dens=50)"
      ],
      "metadata": {
        "execution": {
          "iopub.status.busy": "2022-08-25T05:47:52.484092Z",
          "iopub.execute_input": "2022-08-25T05:47:52.485550Z",
          "iopub.status.idle": "2022-08-25T05:47:52.642951Z"
        },
        "trusted": true,
        "id": "0V5A3jmLprJ8"
      },
      "execution_count": null,
      "outputs": []
    },
    {
      "cell_type": "markdown",
      "source": [
        "### 🔵 Ejercicio 3:\n",
        "\n",
        "Supongamos que tenemos un conjunto de datos de niveles de colesterol en una cantidad de pacientes y necesitmos calcular la probabilidad de cuántos pacientes están sanos.\n",
        "\n",
        "La media $\\mu$ para el nivel de colesterol de todos los pacientes es 150 y la desviación estándar $\\sigma$ es igual a 15. Sea $X$ el nivel de colesterol de un paciente, $X\\sim N(150,225)$\n",
        "\n",
        "a)  Calcule la probabilidad de que los niveles de colesterol estén entre 135 y 165"
      ],
      "metadata": {
        "id": "Yl5xJWhMprJ9"
      }
    },
    {
      "cell_type": "code",
      "source": [
        "#TO-DO: Para calcular la probabilidad deseada, hay que restar dos probabilidades de cola izquierda. ¿Pudieras llenar los espacios?\n",
        "prob<-pnorm(____, mean = _____, sd = ______, lower.tail = ______)-pnorm(_____,______,_____,______)\n",
        "prob"
      ],
      "metadata": {
        "execution": {
          "iopub.status.busy": "2022-08-25T05:47:52.645479Z",
          "iopub.execute_input": "2022-08-25T05:47:52.646914Z",
          "iopub.status.idle": "2022-08-25T05:47:52.665373Z"
        },
        "trusted": true,
        "id": "zNHAVWY0prJ9"
      },
      "execution_count": null,
      "outputs": []
    },
    {
      "cell_type": "markdown",
      "source": [
        "Eso quiere decir que $P(135<X<165)\\approx 68\\%$. Eso es\n",
        "\n",
        "b)  Grafique la curva de la distribución normal y sombree la probabilidad de que los niveles de colesterol estén entre 135 y 165:"
      ],
      "metadata": {
        "id": "vgCjlNkVprJ-"
      }
    },
    {
      "cell_type": "code",
      "source": [
        "#TO-DO: Para imprimir la gráfica deseada, hay que usar el comando shadenorm y llenar los espacios faltantes\n",
        "________(mu=___,sig=____,between=c(_____,____),col=\"red\",dens=50)"
      ],
      "metadata": {
        "execution": {
          "iopub.status.busy": "2022-08-25T05:47:52.667773Z",
          "iopub.execute_input": "2022-08-25T05:47:52.669185Z",
          "iopub.status.idle": "2022-08-25T05:47:52.822841Z"
        },
        "trusted": true,
        "id": "pkQyGL8PprJ-"
      },
      "execution_count": null,
      "outputs": []
    },
    {
      "cell_type": "markdown",
      "source": [
        "a)  Calcule la probabilidad de que los niveles de colesterol estén entre 120 y 160 y grafique la curva que muestre la probabilidad."
      ],
      "metadata": {
        "id": "BeULC7K7prJ-"
      }
    },
    {
      "cell_type": "code",
      "source": [
        "#TO-DO: Complete todo lo que falta\n",
        "Para prob<-_________\n",
        "prob"
      ],
      "metadata": {
        "execution": {
          "iopub.status.busy": "2022-08-25T05:47:52.825495Z",
          "iopub.execute_input": "2022-08-25T05:47:52.827033Z",
          "iopub.status.idle": "2022-08-25T05:47:52.845372Z"
        },
        "trusted": true,
        "id": "tYYu7Z4UprJ_"
      },
      "execution_count": null,
      "outputs": []
    },
    {
      "cell_type": "code",
      "source": [
        "#TO-DO: Complete todo lo que falta\n",
        "shadenorm(_________)"
      ],
      "metadata": {
        "execution": {
          "iopub.status.busy": "2022-08-25T05:47:52.847899Z",
          "iopub.execute_input": "2022-08-25T05:47:52.849323Z",
          "iopub.status.idle": "2022-08-25T05:47:53.062909Z"
        },
        "trusted": true,
        "id": "3TU_MYSBprKA"
      },
      "execution_count": null,
      "outputs": []
    },
    {
      "cell_type": "markdown",
      "source": [
        "## 🔶 Distribución Z\n",
        "\n",
        "### 🔵 Ejercicio 4:\n",
        "\n",
        "Una compañía de manufactura de celulares, tomó una muestra de celulares del mismo modelo de los datos del mes anterior. Ellos quieren calcular el $z$-score para un tamaño de pantalla dado de 9.5 cm de un celular particular.\n",
        "\n",
        "a)  Importa los datos del archivo 'screen_size-data.csv'"
      ],
      "metadata": {
        "id": "ScBeX_kNprKA"
      }
    },
    {
      "cell_type": "code",
      "source": [
        "#TO-DO: Utiliza el comando read.csv para leer los datos del archivo correspondiente. \n",
        "#Indica con TRUE o FALSE que el archivo csv contiene encabezados para cada columna.\n",
        "#Guarda la información en una variable llamada data\n",
        "______ <- _______(file=\"/content/screen_size-data.csv\", header=_____)"
      ],
      "metadata": {
        "execution": {
          "iopub.status.busy": "2022-08-25T05:47:53.065463Z",
          "iopub.execute_input": "2022-08-25T05:47:53.066859Z",
          "iopub.status.idle": "2022-08-25T05:47:53.081229Z"
        },
        "trusted": true,
        "id": "hM5Q3l7oprKB"
      },
      "execution_count": null,
      "outputs": []
    },
    {
      "cell_type": "markdown",
      "source": [
        "b)  Obtenga la media y la desviación estándar poblacional"
      ],
      "metadata": {
        "id": "X0RP6Y5sprKB"
      }
    },
    {
      "cell_type": "code",
      "source": [
        "#TO-DO: Guarde los datos de la columna Screen_size.in.cm. de la tabla data en una variable llamada ssize\n",
        "ssize<-data$________\n",
        "\n",
        "#TO-DO: A partir de la desviación estándar de la muestra ssize, obtenga la desviación estandar poblacional y guardelo en la variable pop_sd\n",
        "#Imprima la desviación estándar poblacional. \n",
        "pop_sd <- sd(______)*sqrt((length(_____)-1)/(length(_______)))\n",
        "______\n",
        "\n",
        "pop_mean <- mean(ssize)\n",
        "pop_mean"
      ],
      "metadata": {
        "execution": {
          "iopub.status.busy": "2022-08-25T05:47:53.083609Z",
          "iopub.execute_input": "2022-08-25T05:47:53.085018Z",
          "iopub.status.idle": "2022-08-25T05:47:53.112117Z"
        },
        "trusted": true,
        "id": "qhNFRmtsprKB"
      },
      "execution_count": null,
      "outputs": []
    },
    {
      "cell_type": "markdown",
      "source": [
        "c)  Con lo anterior, obtenga el valor $z$ según la fórmula: $z=\\frac{x-\\mu}{\\sigma}$"
      ],
      "metadata": {
        "id": "cA_7BITEprKC"
      }
    },
    {
      "cell_type": "code",
      "source": [
        "z <- (9.5 - ____) / ____\n",
        "z"
      ],
      "metadata": {
        "execution": {
          "iopub.status.busy": "2022-08-25T05:47:53.114506Z",
          "iopub.execute_input": "2022-08-25T05:47:53.115937Z",
          "iopub.status.idle": "2022-08-25T05:47:53.133664Z"
        },
        "trusted": true,
        "id": "iXhUUYIWprKC"
      },
      "execution_count": null,
      "outputs": []
    },
    {
      "cell_type": "markdown",
      "source": [
        "Eso quiere decir que un celular con pantalla de 9.5 cm está 10 veces la desviación estándar alejado de la media. Lo cual implica que es MUY poco probable y se podría considerar un valor atípico extremo.\n",
        "\n",
        "## 🟥 Retos:\n",
        "\n",
        "### 🟣 Reto 1:\n",
        "\n",
        "Contrario a lo que todo el mundo cree, intenta calcular la probabilidad de obtener 50 águilas y 50 soles al tirar 100 monedas justas. Esta expectativa es conocida como la falacia del jugador."
      ],
      "metadata": {
        "id": "KEUkC2r3prKD"
      }
    },
    {
      "cell_type": "code",
      "source": [
        "#TO-DO: Utilice una distribución apropiada para hallar la probabilidad esperada"
      ],
      "metadata": {
        "execution": {
          "iopub.status.busy": "2022-08-25T05:48:19.606285Z",
          "iopub.execute_input": "2022-08-25T05:48:19.608666Z",
          "iopub.status.idle": "2022-08-25T05:48:19.779581Z"
        },
        "trusted": true,
        "id": "UQ9Lo4KuprKD"
      },
      "execution_count": null,
      "outputs": []
    },
    {
      "cell_type": "markdown",
      "source": [
        "La probabilidad de que esto suceda es MUY BAJA\n",
        "\n",
        "### 🟣 Reto 2:\n",
        "\n",
        "En los EEUU, el coeficiente intelectual promedio es 100, con una desviación estándar de 15. ¿Qué porcentaje de la población esperarías tener un CI mayor a 120?"
      ],
      "metadata": {
        "id": "WYJ1lDx9prKD"
      }
    },
    {
      "cell_type": "code",
      "source": [
        "#TO-DO: Utilice una distribución apropiada para hallar el porcentaje esperado. \n",
        "#Exprese su resultado en porcentaje y asegúrese de imprimirlo."
      ],
      "metadata": {
        "trusted": true,
        "id": "uzx0xsD1prKD"
      },
      "execution_count": null,
      "outputs": []
    },
    {
      "cell_type": "code",
      "source": [
        "#TO-DO: Dibuje la gráfica y sombree la probabilidad en cuestión."
      ],
      "metadata": {
        "id": "mL0GtIdSrKMZ"
      },
      "execution_count": null,
      "outputs": []
    }
  ]
}